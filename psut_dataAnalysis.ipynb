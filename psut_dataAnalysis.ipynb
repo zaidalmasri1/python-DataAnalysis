{
  "nbformat": 4,
  "nbformat_minor": 0,
  "metadata": {
    "colab": {
      "provenance": [],
      "toc_visible": true,
      "name": "psut dataAnalysis.ipynb",
      "authorship_tag": "ABX9TyOoKzOx17PhfEZgc39po5YB",
      "include_colab_link": true
    },
    "kernelspec": {
      "name": "python3",
      "display_name": "Python 3"
    },
    "language_info": {
      "name": "python"
    }
  },
  "cells": [
    {
      "cell_type": "markdown",
      "metadata": {
        "id": "view-in-github",
        "colab_type": "text"
      },
      "source": [
        "<a href=\"https://colab.research.google.com/github/zaidalmasri1/python-DataAnalysis/blob/main/psut_dataAnalysis.ipynb\" target=\"_parent\"><img src=\"https://colab.research.google.com/assets/colab-badge.svg\" alt=\"Open In Colab\"/></a>"
      ]
    },
    {
      "cell_type": "code",
      "execution_count": 15,
      "metadata": {
        "colab": {
          "base_uri": "https://localhost:8080/"
        },
        "id": "bvF8CVpfQByQ",
        "outputId": "4040924d-5db1-4659-9445-81c26b5b11c3"
      },
      "outputs": [
        {
          "output_type": "stream",
          "name": "stdout",
          "text": [
            "['Mercury', 'Venus', 'Earth', 'Mars', 'Jupiter', 'Saturn', 'Uranus', 'Neptune']\n",
            "['Venus', 'Earth', 'Mars']\n",
            "Venus\n",
            "['Mercury', 'Venus', 'Earth', 'Mars']\n",
            "['Jupiter', 'Saturn', 'Uranus', 'Neptune']\n",
            "No\n"
          ]
        }
      ],
      "source": [
        "planets = ['Mercury', 'Venus', 'Earth', 'Mars', 'Jupiter', 'Saturn', 'Uranus', 'Neptune']\n",
        "\n",
        "print(planets)\n",
        "print(planets[1:4])\n",
        "print(planets[1])\n",
        "\n",
        "print(planets[:4])\n",
        "\n",
        "print(planets[4:])\n",
        "\n",
        "planets[3]='TEST'\n",
        "\n",
        "len(planets)\n",
        "\n",
        "sorted(planets)\n",
        "\n",
        "prims=[2,3,4,5,6]\n",
        "sum(prims)\n",
        "\n",
        "planets.append('pluto')\n",
        "\n",
        "\n",
        "planets.index('Earth')\n",
        "\n",
        "if \"zaid\" in planets:\n",
        "  planets.index('zaid')\n",
        "else:\n",
        "    print(\"No\")\n",
        "\n",
        "\n",
        "\n",
        "\n"
      ]
    }
  ]
}