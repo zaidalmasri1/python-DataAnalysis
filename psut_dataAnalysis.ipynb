{
  "nbformat": 4,
  "nbformat_minor": 0,
  "metadata": {
    "colab": {
      "provenance": [],
      "toc_visible": true,
      "name": "psut dataAnalysis.ipynb",
      "authorship_tag": "ABX9TyM9CdFBHbYJb7sQKTHdBnYD",
      "include_colab_link": true
    },
    "kernelspec": {
      "name": "python3",
      "display_name": "Python 3"
    },
    "language_info": {
      "name": "python"
    }
  },
  "cells": [
    {
      "cell_type": "markdown",
      "metadata": {
        "id": "view-in-github",
        "colab_type": "text"
      },
      "source": [
        "<a href=\"https://colab.research.google.com/github/zaidalmasri1/python-DataAnalysis/blob/main/psut_dataAnalysis.ipynb\" target=\"_parent\"><img src=\"https://colab.research.google.com/assets/colab-badge.svg\" alt=\"Open In Colab\"/></a>"
      ]
    },
    {
      "cell_type": "code",
      "execution_count": null,
      "metadata": {
        "colab": {
          "base_uri": "https://localhost:8080/"
        },
        "id": "bvF8CVpfQByQ",
        "outputId": "e713ea2a-8540-4042-d23a-6c1f79f9ea81"
      },
      "outputs": [
        {
          "output_type": "stream",
          "name": "stdout",
          "text": [
            "hello\n",
            "zaid\n"
          ]
        }
      ],
      "source": [
        "print (\"hello\")\n",
        "print (\"zaid\")"
      ]
    }
  ]
}