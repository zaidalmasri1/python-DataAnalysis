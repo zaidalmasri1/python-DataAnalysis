{
  "nbformat": 4,
  "nbformat_minor": 0,
  "metadata": {
    "colab": {
      "provenance": [],
      "toc_visible": true,
      "name": "psut dataAnalysis.ipynb",
      "authorship_tag": "ABX9TyM8Bn5Lv73xumkKoFByhzIg",
      "include_colab_link": true
    },
    "kernelspec": {
      "name": "python3",
      "display_name": "Python 3"
    },
    "language_info": {
      "name": "python"
    }
  },
  "cells": [
    {
      "cell_type": "markdown",
      "metadata": {
        "id": "view-in-github",
        "colab_type": "text"
      },
      "source": [
        "<a href=\"https://colab.research.google.com/github/zaidalmasri1/python-DataAnalysis/blob/main/psut_dataAnalysis.ipynb\" target=\"_parent\"><img src=\"https://colab.research.google.com/assets/colab-badge.svg\" alt=\"Open In Colab\"/></a>"
      ]
    },
    {
      "cell_type": "code",
      "execution_count": 1,
      "metadata": {
        "colab": {
          "base_uri": "https://localhost:8080/"
        },
        "id": "bvF8CVpfQByQ",
        "outputId": "a9df9b69-d3bd-448c-b173-b84d4fcbfc0f"
      },
      "outputs": [
        {
          "output_type": "stream",
          "name": "stdout",
          "text": [
            "Making predictions for the following 5 houses:\n",
            "   housing_median_age  total_rooms  total_bedrooms  latitude  longitude\n",
            "0                27.0       3885.0           661.0     37.37    -122.05\n",
            "1                43.0       1510.0           310.0     34.26    -118.30\n",
            "2                27.0       3589.0           507.0     33.78    -117.81\n",
            "3                28.0         67.0            15.0     33.82    -118.36\n",
            "4                19.0       1241.0           244.0     36.33    -119.67\n",
            "The predictions are\n",
            "[344700. 176500. 270500. 330000.  81700.]\n"
          ]
        }
      ],
      "source": [
        "import pandas as pd\n",
        "melbourne_file_path = '../content/sample_data/california_housing_test.csv'\n",
        "melbourne_data = pd.read_csv(melbourne_file_path)\n",
        "melbourne_data.columns\n",
        "\n",
        "melbourne_data.head(100)\n",
        "y = melbourne_data.median_house_value\n",
        "melbourne_features = ['housing_median_age', 'total_rooms', 'total_bedrooms', 'latitude', 'longitude']\n",
        "X = melbourne_data[melbourne_features]\n",
        "\n",
        "from sklearn.tree import DecisionTreeRegressor\n",
        "# Define model. Specify a number for random_state to ensure same results each run\n",
        "melbourne_model = DecisionTreeRegressor(random_state=1)\n",
        "# Fit model\n",
        "melbourne_model.fit(X, y)\n",
        "print(\"Making predictions for the following 5 houses:\")\n",
        "print(X.head())\n",
        "print(\"The predictions are\")\n",
        "print(melbourne_model.predict(X.head()))\n",
        "\n",
        "#output\n",
        "#Making predictions for the following 5 houses:\n",
        " #  housing_median_age  total_rooms  total_bedrooms  latitude  longitude\n",
        "#0                27.0       3885.0           661.0     37.37    -122.05\n",
        "#1                43.0       1510.0           310.0     34.26    -118.30\n",
        "#2                27.0       3589.0           507.0     33.78    -117.81\n",
        "#3                28.0         67.0            15.0     33.82    -118.36\n",
        "#4                19.0       1241.0           244.0     36.33    -119.67\n",
        "#The predictions are\n",
        "#[344700. 176500. 270500. 330000.  81700.]"
      ]
    }
  ]
}